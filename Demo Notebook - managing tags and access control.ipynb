{
 "cells": [
  {
   "cell_type": "markdown",
   "metadata": {},
   "source": [
    "AUTENTICAÇÃO E BIBLIOTECAS"
   ]
  },
  {
   "cell_type": "code",
   "execution_count": null,
   "metadata": {},
   "outputs": [],
   "source": [
    "import pandas as pd\n",
    "import json\n",
    "import requests\n",
    "\n",
    "import google.auth\n",
    "from google.oauth2 import service_account\n",
    "from google.auth.transport.requests import Request\n",
    "from google.cloud import storage\n",
    "from google.cloud import bigquery\n",
    "from google.auth import default"
   ]
  },
  {
   "cell_type": "code",
   "execution_count": null,
   "metadata": {},
   "outputs": [],
   "source": [
    "import warnings\n",
    "warnings.filterwarnings(\"ignore\")"
   ]
  },
  {
   "cell_type": "code",
   "execution_count": null,
   "metadata": {},
   "outputs": [],
   "source": [
    "SCOPES = ['https://www.googleapis.com/auth/cloud-platform']\n",
    "\n",
    "# Get credentials from the environment\n",
    "credentials__, project_id__ = default(scopes=SCOPES)\n",
    "\n",
    "# Refresh the credentials if necessary\n",
    "if not credentials__.valid or credentials__.expired:\n",
    "    credentials__.refresh(Request())"
   ]
  },
  {
   "cell_type": "code",
   "execution_count": null,
   "metadata": {},
   "outputs": [],
   "source": [
    "PROJECT_ID = project_id__"
   ]
  },
  {
   "cell_type": "markdown",
   "metadata": {},
   "source": [
    "RELAÇÃO DE TAGS, USERS, DATASETS"
   ]
  },
  {
   "cell_type": "code",
   "execution_count": null,
   "metadata": {},
   "outputs": [],
   "source": [
    "#De para de datasets e usuários\n",
    "#De para de datasets e tags\n",
    "#Relação das duas bases"
   ]
  },
  {
   "cell_type": "code",
   "execution_count": null,
   "metadata": {},
   "outputs": [],
   "source": [
    "users_datasets_path = r'C:\\de_para_access_group_dataset.csv' # Update this path to the correct location of your CSV file\n",
    "users_datasets = pd.read_csv(users_datasets_path, delimiter = ';')\n",
    "users_datasets"
   ]
  },
  {
   "cell_type": "code",
   "execution_count": null,
   "metadata": {},
   "outputs": [],
   "source": [
    "datasets_tags_path = r'C:\\de_para_dataset_tag.csv' # Update this path to the correct location of your CSV file\n",
    "datasets_tags = pd.read_csv(datasets_tags_path, delimiter = ';')\n",
    "datasets_tags"
   ]
  },
  {
   "cell_type": "code",
   "execution_count": null,
   "metadata": {},
   "outputs": [],
   "source": [
    "users_datasets_relationship = users_datasets.merge(datasets_tags, on='dataset', how='left')\n",
    "users_datasets_relationship['tag_key'] = PROJECT_ID + '/' + users_datasets_relationship['tag_key']"
   ]
  },
  {
   "cell_type": "markdown",
   "metadata": {},
   "source": [
    "TAGS | IAM"
   ]
  },
  {
   "cell_type": "code",
   "execution_count": null,
   "metadata": {},
   "outputs": [],
   "source": [
    "#Ler tags do IAM\n",
    "#De-para com tags listadas\n",
    "#Se a tag não existe, criar"
   ]
  },
  {
   "cell_type": "code",
   "execution_count": null,
   "metadata": {},
   "outputs": [],
   "source": [
    "# Prepare the URL for the GET request to list all tag keys\n",
    "url = f\"https://cloudresourcemanager.googleapis.com/v3/tagKeys?parent=projects/{PROJECT_ID}\"\n",
    "\n",
    "# Prepare the headers with the obtained access token\n",
    "headers = {\n",
    "    'Authorization': f\"Bearer {credentials__.token}\",\n",
    "    'Content-Type': 'application/json'\n",
    "}\n",
    "\n",
    "# Perform the GET request\n",
    "response = requests.get(url, headers=headers)\n",
    "\n",
    "# Check the response status and print the result\n",
    "if response.status_code == 200:\n",
    "    print(\"Success!\")\n",
    "else:\n",
    "    print(\"Failed:\", response.status_code, response.text)\n",
    "\n",
    "iam_tags = [tag_key['namespacedName'] for tag_key in response.json()['tagKeys']]"
   ]
  },
  {
   "cell_type": "code",
   "execution_count": null,
   "metadata": {},
   "outputs": [],
   "source": [
    "def post_create_tag_key(project, tag_key_name, description = None):\n",
    "\n",
    "    # Prepare the URL for the POST request\n",
    "    url = \"https://cloudresourcemanager.googleapis.com/v3/tagKeys/\"\n",
    "\n",
    "    # Prepare the headers with the obtained access token\n",
    "    headers = {\n",
    "        'Authorization': f\"Bearer {credentials__.token}\",\n",
    "        'Content-Type': 'application/json'\n",
    "    }\n",
    "\n",
    "    # Define the JSON payload for the POST request\n",
    "    payload = {\n",
    "        \"parent\": f\"projects/{project}\",  # Replace RESOURCE_ID with your actual resource ID\n",
    "        \"shortName\": f\"{tag_key_name}\",  # Replace SHORT_NAME with your actual short name\n",
    "        \"description\": f\"{description}\"  # Replace DESCRIPTION with your actual description\n",
    "    }\n",
    "\n",
    "    # Convert the payload dictionary to a JSON formatted string\n",
    "    json_data = json.dumps(payload)\n",
    "\n",
    "    # Perform the POST request\n",
    "    response = requests.post(url, headers=headers, data=json_data)\n",
    "\n",
    "    # Check the response status and print the result\n",
    "    if response.status_code == 200:\n",
    "        return print(\"Success! Tag Created.\")\n",
    "    else:\n",
    "        return print(\"Failed:\", response.status_code, response.text)"
   ]
  },
  {
   "cell_type": "code",
   "execution_count": null,
   "metadata": {},
   "outputs": [],
   "source": [
    "#Comparar key tags do dataset versus tags do IAM\n",
    "for tag_key in list(users_datasets_relationship['tag_key'].unique()):\n",
    "\n",
    "    if tag_key in iam_tags:\n",
    "        print(f'Tag Key {tag_key} already exists')\n",
    "    else:\n",
    "        print(f'Tag Key {tag_key} does not exist')\n",
    "        post_create_tag_key(tag_key.split('/')[0], tag_key.split('/')[1], f'TESTE TAG {tag_key}')"
   ]
  },
  {
   "cell_type": "code",
   "execution_count": null,
   "metadata": {},
   "outputs": [],
   "source": [
    "# Prepare the URL for the GET request to list all tag keys\n",
    "url = f\"https://cloudresourcemanager.googleapis.com/v3/tagKeys?parent=projects/{PROJECT_ID}\"\n",
    "\n",
    "# Prepare the headers with the obtained access token\n",
    "headers = {\n",
    "    'Authorization': f\"Bearer {credentials__.token}\",\n",
    "    'Content-Type': 'application/json'\n",
    "}\n",
    "\n",
    "# Perform the GET request\n",
    "response = requests.get(url, headers=headers)\n",
    "\n",
    "# Check the response status and print the result\n",
    "if response.status_code == 200:\n",
    "    print(\"Success!\")\n",
    "else:\n",
    "    print(\"Failed:\", response.status_code, response.text)\n",
    "\n",
    "tag_key_shortname = [tag_key['namespacedName'] for tag_key in response.json()['tagKeys']]\n",
    "tag_key_name = [tag_key['name'] for tag_key in response.json()['tagKeys']]\n",
    "\n",
    "iam_tags = dict(zip(tag_key_shortname, tag_key_name))\n",
    "\n",
    "iam_tags"
   ]
  },
  {
   "cell_type": "code",
   "execution_count": null,
   "metadata": {},
   "outputs": [],
   "source": [
    "#Ler todas as tag values de uma tag key do IAM\n",
    "tag_key_name = []\n",
    "tag_key_shortname = []\n",
    "tag_values_name = []\n",
    "tag_values_shortname = []\n",
    "\n",
    "for key, item in iam_tags.items():\n",
    "\n",
    "    # Prepare the URL for the GET request to list all tag keys\n",
    "    url = f\"https://cloudresourcemanager.googleapis.com/v3/tagValues?parent={item}\"\n",
    "\n",
    "    # Prepare the headers with the obtained access token\n",
    "    headers = {\n",
    "        'Authorization': f\"Bearer {credentials__.token}\",\n",
    "        'Content-Type': 'application/json'\n",
    "    }\n",
    "\n",
    "    # Perform the GET request\n",
    "    response = requests.get(url, headers=headers)\n",
    "\n",
    "    # Check the response status and print the result\n",
    "    if response.status_code == 200 and response.json() == {}:\n",
    "        tag_key_name.append(item)\n",
    "        tag_key_shortname.append(key)\n",
    "        tag_values_name.append([])\n",
    "        tag_values_shortname.append([])\n",
    "\n",
    "    elif response.status_code == 200:\n",
    "        tag_key_name.append(item)\n",
    "        tag_key_shortname.append(key)\n",
    "        tag_values_name.append([tagvalue['name'] for tagvalue in response.json()['tagValues']])\n",
    "        tag_values_shortname.append([tagvalue['shortName'] for tagvalue in response.json()['tagValues']])\n",
    "        \n",
    "    else:\n",
    "        print(\"Tag key {key} resquest failed:\", response.status_code, response.text)\n",
    "\n",
    "tag_keys_and_values = pd.DataFrame(data = {\n",
    "                        'tag_key_shortname': tag_key_shortname\n",
    "                        , 'tag_key_name': tag_key_name\n",
    "                        , 'tag_values_shortname': tag_values_shortname\n",
    "                        , 'tag_values_name': tag_values_name\n",
    "                    })\n",
    "\n",
    "tag_keys_and_values = tag_keys_and_values.explode(column = ['tag_values_name', 'tag_values_shortname'])\n"
   ]
  },
  {
   "cell_type": "code",
   "execution_count": null,
   "metadata": {},
   "outputs": [],
   "source": [
    "df1 = users_datasets_relationship\n",
    "df2 = tag_keys_and_values\n",
    "\n",
    "result = df1.merge(df2, \n",
    "                  left_on=['tag_key']\n",
    "                  , right_on=['tag_key_shortname']\n",
    "                  , how='outer'\n",
    "                )\n",
    "\n",
    "tag_values_to_create = result[(result.dataset.isna() == False) & (result.tag_values_name.isna() == True)][['tag_key', 'tag_value', 'tag_key_name']].drop_duplicates()"
   ]
  },
  {
   "cell_type": "code",
   "execution_count": null,
   "metadata": {},
   "outputs": [],
   "source": [
    "def post_create_tag_value(tag_key_name, tag_value_shortname, description = None):\n",
    "\n",
    "    # Prepare the URL for the POST request\n",
    "    url = \"https://cloudresourcemanager.googleapis.com/v3/tagValues/\"\n",
    "\n",
    "    # Prepare the headers with the obtained access token\n",
    "    headers = {\n",
    "        'Authorization': f\"Bearer {credentials__.token}\",\n",
    "        'Content-Type': 'application/json'\n",
    "    }\n",
    "\n",
    "    # Define the JSON payload for the POST request\n",
    "    payload = {\n",
    "        \"parent\": f\"{tag_key_name}\",\n",
    "        \"shortName\": f\"{tag_value_shortname}\",\n",
    "        \"description\": f\"{description}\"\n",
    "    }\n",
    "\n",
    "    # Convert the payload dictionary to a JSON formatted string\n",
    "    json_data = json.dumps(payload)\n",
    "\n",
    "    # Perform the POST request\n",
    "    response = requests.post(url, headers=headers, data=json_data)\n",
    "\n",
    "    # Check the response status and print the result\n",
    "    if response.status_code == 200:\n",
    "        return print(\"Success! Tag Value Created.\")\n",
    "    else:\n",
    "        return print(\"Failed:\", response.status_code, response.text)"
   ]
  },
  {
   "cell_type": "code",
   "execution_count": null,
   "metadata": {},
   "outputs": [],
   "source": [
    "for index in range(len(tag_values_to_create)):\n",
    "\n",
    "    post_create_tag_value(\n",
    "        tag_values_to_create.loc[index, 'tag_key_name']\n",
    "        , tag_values_to_create.loc[index, 'tag_value']\n",
    "        , f'TESTE TAG {tag_values_to_create.loc[index, 'tag_value']}')"
   ]
  },
  {
   "cell_type": "code",
   "execution_count": null,
   "metadata": {},
   "outputs": [],
   "source": [
    "tag_key_name = []\n",
    "tag_key_shortname = []\n",
    "tag_values_name = []\n",
    "tag_values_shortname = []\n",
    "\n",
    "for key, item in iam_tags.items():\n",
    "\n",
    "    # Prepare the URL for the GET request to list all tag keys\n",
    "    url = f\"https://cloudresourcemanager.googleapis.com/v3/tagValues?parent={item}\"\n",
    "\n",
    "    # Prepare the headers with the obtained access token\n",
    "    headers = {\n",
    "        'Authorization': f\"Bearer {credentials__.token}\",\n",
    "        'Content-Type': 'application/json'\n",
    "    }\n",
    "\n",
    "    # Perform the GET request\n",
    "    response = requests.get(url, headers=headers)\n",
    "\n",
    "    # Check the response status and print the result\n",
    "    if response.status_code == 200 and response.json() == {}:\n",
    "        tag_key_name.append(item)\n",
    "        tag_key_shortname.append(key)\n",
    "        tag_values_name.append([])\n",
    "        tag_values_shortname.append([])\n",
    "\n",
    "    elif response.status_code == 200:\n",
    "        tag_key_name.append(item)\n",
    "        tag_key_shortname.append(key)\n",
    "        tag_values_name.append([tagvalue['name'] for tagvalue in response.json()['tagValues']])\n",
    "        tag_values_shortname.append([tagvalue['shortName'] for tagvalue in response.json()['tagValues']])\n",
    "        \n",
    "    else:\n",
    "        print(\"Tag key {key} resquest failed:\", response.status_code, response.text)\n",
    "\n",
    "tag_keys_and_values = pd.DataFrame(data = {\n",
    "                        'tag_key_shortname': tag_key_shortname\n",
    "                        , 'tag_key_name': tag_key_name\n",
    "                        , 'tag_values_shortname': tag_values_shortname\n",
    "                        , 'tag_values_name': tag_values_name\n",
    "                    })\n",
    "\n",
    "tag_keys_and_values = tag_keys_and_values.explode(column = ['tag_values_name', 'tag_values_shortname'])\n",
    "\n",
    "df1 = users_datasets_relationship\n",
    "df2 = tag_keys_and_values\n",
    "\n",
    "result = df1.merge(df2, \n",
    "                  left_on=['tag_key']\n",
    "                  , right_on=['tag_key_shortname']\n",
    "                  , how='outer'\n",
    "                )\n",
    "\n",
    "tag_values_created = result[(result.dataset.isna() == False) & (result.tag_values_name.isna() == False)]"
   ]
  },
  {
   "cell_type": "markdown",
   "metadata": {},
   "source": [
    "DATASETS | LEITURA DE TAGS E TAGUEAMENTO"
   ]
  },
  {
   "cell_type": "code",
   "execution_count": null,
   "metadata": {},
   "outputs": [],
   "source": [
    "map_dataset_tags = tag_values_created.drop(columns = ['user_type', 'email']).drop_duplicates()"
   ]
  },
  {
   "cell_type": "code",
   "execution_count": null,
   "metadata": {},
   "outputs": [],
   "source": [
    "# Initialize a BigQuery client\n",
    "bq_client = bigquery.Client()\n",
    "\n",
    "REGION = 'region-xxx'"
   ]
  },
  {
   "cell_type": "code",
   "execution_count": null,
   "metadata": {},
   "outputs": [],
   "source": [
    "resources = []\n",
    "dataset_has_tag_value = []\n",
    "\n",
    "for dataset_ in map_dataset_tags['dataset']:\n",
    "\n",
    "    # Specify your dataset ID (including your project ID and dataset name)\n",
    "    dataset_id = f'{PROJECT_ID}.{dataset_}'\n",
    "\n",
    "    # Fetch the dataset\n",
    "    dataset = bq_client.get_dataset(dataset_id)\n",
    "\n",
    "    DATASET_PATH = dataset.path\n",
    "\n",
    "    # Prepare the URL for the GET request to list all tag keys\n",
    "    RESOURCE_NAME = f\"//bigquery.googleapis.com{DATASET_PATH}\"\n",
    "    url = f\"https://{REGION}-cloudresourcemanager.googleapis.com/v3/tagBindings?parent={RESOURCE_NAME}\"\n",
    "\n",
    "    # Prepare the headers with the obtained access token\n",
    "    headers = {\n",
    "        'Authorization': f\"Bearer {credentials__.token}\",\n",
    "        'Content-Type': 'application/json'\n",
    "    }\n",
    "\n",
    "    # Perform the GET request\n",
    "    #response = requests.get(url, headers=headers)\n",
    "    response = requests.get(url, headers=headers, verify=False)\n",
    "\n",
    "    # Check the response status and print the result\n",
    "    if response.status_code == 200 and response.json() == {}: #SE RETORNAR RECURSO (DATASET) SEM TAG\n",
    "        print(\"Success!\")        \n",
    "        resources.append(RESOURCE_NAME)\n",
    "        dataset_has_tag_value.append([])   \n",
    "    elif response.status_code == 200: #RETORNA RECURSO (DATASET) COM TAG\n",
    "        print(\"Success!\")        \n",
    "        resources.append(RESOURCE_NAME)\n",
    "        dataset_has_tag_value.append([tagBindings['tagValue'] for tagBindings in response.json()['tagBindings']])     \n",
    "    else:\n",
    "        print(\"Failed:\", response.status_code, response.text)"
   ]
  },
  {
   "cell_type": "code",
   "execution_count": null,
   "metadata": {},
   "outputs": [],
   "source": [
    "datasets_tagged = pd.DataFrame(data = {\n",
    "                        'dataset': [resource.split('/')[-1] for resource in resources]\n",
    "                        , 'dataset_has_tag_value': dataset_has_tag_value\n",
    "                    })\n",
    "\n",
    "datasets_tagged = datasets_tagged.explode(column = ['dataset_has_tag_value'])"
   ]
  },
  {
   "cell_type": "code",
   "execution_count": null,
   "metadata": {},
   "outputs": [],
   "source": [
    "datasets_tagged"
   ]
  },
  {
   "cell_type": "code",
   "execution_count": null,
   "metadata": {},
   "outputs": [],
   "source": [
    "df1 = tag_values_created\n",
    "df2 = datasets_tagged\n",
    "\n",
    "mapped_tagged_datasets = df1.merge(df2, \n",
    "                          left_on=['dataset','tag_values_name']\n",
    "                          , right_on=['dataset', 'dataset_has_tag_value']\n",
    "                          , how='outer'\n",
    "                        )[result['email'].isna() == False] #excluir datasets não mapeados no de-para"
   ]
  },
  {
   "cell_type": "code",
   "execution_count": null,
   "metadata": {},
   "outputs": [],
   "source": [
    "mapped_tagged_datasets"
   ]
  },
  {
   "cell_type": "code",
   "execution_count": null,
   "metadata": {},
   "outputs": [],
   "source": [
    "to_tag = mapped_tagged_datasets[mapped_tagged_datasets['dataset_has_tag_value'].isna() == True].drop(columns = ['user_type', 'email']).drop_duplicates()"
   ]
  },
  {
   "cell_type": "code",
   "execution_count": null,
   "metadata": {},
   "outputs": [],
   "source": [
    "### TAGUEAMENTO DO DATASET\n",
    "def post_tag_dataset(DATASET, TAG_KEY, TAG_VALUE):\n",
    "\n",
    "    # Specify your dataset ID (including your project ID and dataset name)\n",
    "    dataset_id = f'{PROJECT_ID}.{DATASET}'\n",
    "\n",
    "    # Fetch the dataset\n",
    "    dataset = bq_client.get_dataset(dataset_id)\n",
    "\n",
    "    DATASET_PATH = dataset.path\n",
    "\n",
    "    # Prepare the URL for the POST request\n",
    "    url = f\"https://{REGION}-cloudresourcemanager.googleapis.com/v3/tagBindings\"\n",
    "\n",
    "    # Prepare the headers with the obtained access token\n",
    "    headers = {\n",
    "        'Authorization': f\"Bearer {credentials__.token}\",\n",
    "        'Content-Type': 'application/json'\n",
    "    }\n",
    "\n",
    "    # Define the JSON payload for the POST request\n",
    "    payload = {\n",
    "        \"parent\": f\"//bigquery.googleapis.com{DATASET_PATH}\",\n",
    "        \"tagValueNamespacedName\": f\"{TAG_KEY}/{TAG_VALUE}\"\n",
    "    }\n",
    "\n",
    "    # Convert the payload dictionary to a JSON formatted string\n",
    "    json_data = json.dumps(payload)\n",
    "\n",
    "    # Perform the POST request\n",
    "    #response = requests.post(url, headers=headers, data=json_data)\n",
    "    response = requests.post(url, headers=headers, data=json_data, verify = False)\n",
    "\n",
    "    # Check the response status and print the result\n",
    "    if response.status_code == 409:\n",
    "        print(\"Already tagged\", response.json())\n",
    "    elif response.status_code == 200:\n",
    "        print(\"Success:\", response.json())\n",
    "    else:\n",
    "        print(\"Failed:\", response.status_code, response.text)"
   ]
  },
  {
   "cell_type": "code",
   "execution_count": null,
   "metadata": {},
   "outputs": [],
   "source": [
    "for index in range(len(to_tag)):\n",
    "\n",
    "    post_tag_dataset(\n",
    "        to_tag.loc[index, 'dataset']\n",
    "        , to_tag.loc[index, 'tag_key_shortname']\n",
    "        , to_tag.loc[index, 'tag_values_shortname']\n",
    "    )"
   ]
  },
  {
   "cell_type": "code",
   "execution_count": null,
   "metadata": {},
   "outputs": [],
   "source": [
    "###Fazer a listagem e de-para novamente\n",
    "resources = []\n",
    "dataset_has_tag_value = []\n",
    "\n",
    "for dataset_ in mapped_tagged_datasets['dataset'].unique():\n",
    "\n",
    "    # Specify your dataset ID (including your project ID and dataset name)\n",
    "    dataset_id = f'{PROJECT_ID}.{dataset_}'\n",
    "\n",
    "    # Fetch the dataset\n",
    "    dataset = bq_client.get_dataset(dataset_id)\n",
    "\n",
    "    DATASET_PATH = dataset.path\n",
    "\n",
    "    # Prepare the URL for the GET request to list all tag keys\n",
    "    RESOURCE_NAME = f\"//bigquery.googleapis.com{DATASET_PATH}\"\n",
    "    url = f\"https://{REGION}-cloudresourcemanager.googleapis.com/v3/tagBindings?parent={RESOURCE_NAME}\"\n",
    "\n",
    "    # Prepare the headers with the obtained access token\n",
    "    headers = {\n",
    "        'Authorization': f\"Bearer {credentials__.token}\",\n",
    "        'Content-Type': 'application/json'\n",
    "    }\n",
    "\n",
    "    # Perform the GET request\n",
    "    #response = requests.get(url, headers=headers)\n",
    "    response = requests.get(url, headers=headers, verify=False)\n",
    "\n",
    "    # Check the response status and print the result\n",
    "    if response.status_code == 200 and response.json() == {}:\n",
    "        print(\"Success!\")        \n",
    "        resources.append(RESOURCE_NAME)\n",
    "        dataset_has_tag_value.append([])   \n",
    "    elif response.status_code == 200:\n",
    "        print(\"Success!\")        \n",
    "        resources.append(RESOURCE_NAME)\n",
    "        dataset_has_tag_value.append([tagBindings['tagValue'] for tagBindings in response.json()['tagBindings']])     \n",
    "    else:\n",
    "        print(\"Failed:\", response.status_code, response.text)"
   ]
  },
  {
   "cell_type": "code",
   "execution_count": null,
   "metadata": {},
   "outputs": [],
   "source": [
    "datasets_tagged = pd.DataFrame(data = {\n",
    "                        'dataset': [resource.split('/')[-1] for resource in resources]\n",
    "                        , 'dataset_has_tag_value': dataset_has_tag_value\n",
    "                    })\n",
    "\n",
    "datasets_tagged = datasets_tagged.explode(column = ['dataset_has_tag_value']).drop_duplicates()"
   ]
  },
  {
   "cell_type": "code",
   "execution_count": null,
   "metadata": {},
   "outputs": [],
   "source": [
    "datasets_tagged"
   ]
  },
  {
   "cell_type": "code",
   "execution_count": null,
   "metadata": {},
   "outputs": [],
   "source": [
    "tag_values_created"
   ]
  },
  {
   "cell_type": "code",
   "execution_count": null,
   "metadata": {},
   "outputs": [],
   "source": [
    "df1 = tag_values_created\n",
    "df2 = datasets_tagged\n",
    "\n",
    "after_tagging_datasets = df1.merge(df2, \n",
    "                          left_on=['dataset','tag_values_name']\n",
    "                          , right_on=['dataset', 'dataset_has_tag_value']\n",
    "                          , how='outer'\n",
    "                        )[result['email'].isna() == False] #excluir datasets não mapeados no de-para"
   ]
  },
  {
   "cell_type": "code",
   "execution_count": null,
   "metadata": {},
   "outputs": [],
   "source": [
    "after_tagging_datasets"
   ]
  },
  {
   "cell_type": "code",
   "execution_count": null,
   "metadata": {},
   "outputs": [],
   "source": [
    "apply_conditional_iam = after_tagging_datasets[['user_type','email', 'tag_key_shortname', 'tag_values_shortname']]"
   ]
  },
  {
   "cell_type": "code",
   "execution_count": null,
   "metadata": {},
   "outputs": [],
   "source": [
    "apply_conditional_iam"
   ]
  },
  {
   "cell_type": "markdown",
   "metadata": {},
   "source": [
    "APLICAÇÃO DE TAGS EM CONDICIONAIS DO IAM - ROLE BIGQUERY DATA VIEWER"
   ]
  },
  {
   "cell_type": "code",
   "execution_count": null,
   "metadata": {},
   "outputs": [],
   "source": [
    "### LISTAR POLICIES\n",
    "\n",
    "# Prepare the URL for the GET request to list all tag keys\n",
    "url = f'https://cloudresourcemanager.googleapis.com/v1/projects/{PROJECT_ID}:getIamPolicy'\n",
    "\n",
    "# Prepare the headers with the obtained access token\n",
    "headers = {\n",
    "    'Authorization': f\"Bearer {credentials__.token}\",\n",
    "    'Content-Type': 'application/json'\n",
    "}\n",
    "\n",
    "# POST request data\n",
    "data = '{ \\\"options\\\": {\\\"requestedPolicyVersion\\\": 3}}'\n",
    "\n",
    "# Make the API request\n",
    "response = requests.post(url, headers=headers, data=data)"
   ]
  },
  {
   "cell_type": "code",
   "execution_count": null,
   "metadata": {},
   "outputs": [],
   "source": [
    "response.json()"
   ]
  },
  {
   "cell_type": "code",
   "execution_count": null,
   "metadata": {},
   "outputs": [],
   "source": [
    "json_data = response.json()"
   ]
  },
  {
   "cell_type": "code",
   "execution_count": null,
   "metadata": {},
   "outputs": [],
   "source": [
    "for binding in json_data['bindings']:\n",
    "    if binding['role'] == 'roles/bigquery.dataViewer' and 'condition' not in binding:\n",
    "        print(binding)\n",
    "    elif binding['role'] == 'roles/bigquery.dataViewer': \n",
    "        print('\\n')\n",
    "        print(binding)\n",
    "    else:\n",
    "        pass"
   ]
  },
  {
   "cell_type": "code",
   "execution_count": null,
   "metadata": {},
   "outputs": [],
   "source": [
    "apply_conditional_iam['user_and_email'] = apply_conditional_iam.user_type + ':' + apply_conditional_iam.email"
   ]
  },
  {
   "cell_type": "code",
   "execution_count": null,
   "metadata": {},
   "outputs": [],
   "source": [
    "apply_conditional_iam['match_tag'] = 'resource.matchTag(\"' + apply_conditional_iam.tag_key_shortname + '\", \"' + apply_conditional_iam.tag_values_shortname+ '\")' "
   ]
  },
  {
   "cell_type": "code",
   "execution_count": null,
   "metadata": {},
   "outputs": [],
   "source": [
    "condition_expression = []\n",
    "\n",
    "for user_ in apply_conditional_iam.user_and_email.unique():\n",
    "\n",
    "    if len(apply_conditional_iam[['user_and_email', 'match_tag']][apply_conditional_iam.user_and_email == user_]) > 1:\n",
    "        condition_expression.append(' || '.join(set(list(apply_conditional_iam[['user_and_email', 'match_tag']][apply_conditional_iam.user_and_email == user_].match_tag.values))))\n",
    "    else:\n",
    "        condition_expression.append(apply_conditional_iam[['user_and_email', 'match_tag']][apply_conditional_iam.user_and_email == user_].match_tag.values[0])\n",
    "\n",
    "user_condition_expression = pd.DataFrame(data = {'user_and_email': apply_conditional_iam.user_and_email.unique(), 'condition_expression': condition_expression})"
   ]
  },
  {
   "cell_type": "code",
   "execution_count": null,
   "metadata": {},
   "outputs": [],
   "source": [
    "role_with_condition_members = []\n",
    "\n",
    "for condition_expression_ in user_condition_expression.condition_expression.unique():\n",
    "\n",
    "    role_with_condition_members.append(list(user_condition_expression[user_condition_expression.condition_expression == condition_expression_].user_and_email.values))"
   ]
  },
  {
   "cell_type": "code",
   "execution_count": null,
   "metadata": {},
   "outputs": [],
   "source": [
    "condition_expressions_and_members_list = pd.DataFrame(data = {'members_list': role_with_condition_members, 'condition_expression':user_condition_expression.condition_expression.unique()})"
   ]
  },
  {
   "cell_type": "code",
   "execution_count": null,
   "metadata": {},
   "outputs": [],
   "source": [
    "condition_expressions_and_members_list['title'] = ['Condition ' + str(index + 1) for index in range(len(condition_expressions_and_members_list))]"
   ]
  },
  {
   "cell_type": "code",
   "execution_count": null,
   "metadata": {},
   "outputs": [],
   "source": [
    "#Tratamento da role dataViewer geral\n",
    "for binding in json_data['bindings']:\n",
    "    if binding['role'] == 'roles/bigquery.dataViewer' and 'condition' not in binding:\n",
    "        general_binding = binding\n",
    "\n",
    "for e_ in user_condition_expression.user_and_email.values:\n",
    "    try:\n",
    "        general_binding['members'].remove(e_)\n",
    "    except:\n",
    "        pass"
   ]
  },
  {
   "cell_type": "code",
   "execution_count": null,
   "metadata": {},
   "outputs": [],
   "source": [
    "conditional_binding = []\n",
    "\n",
    "for index in range(len(condition_expressions_and_members_list)):\n",
    "\n",
    "    new_binding_ = {\n",
    "        'role': 'roles/bigquery.dataViewer',\n",
    "        'members': condition_expressions_and_members_list.members_list.values[index],\n",
    "        'condition': {'expression': condition_expressions_and_members_list.condition_expression[index], 'title': condition_expressions_and_members_list.title[index]}\n",
    "    }\n",
    "\n",
    "    conditional_binding.append(new_binding_)\n"
   ]
  },
  {
   "cell_type": "code",
   "execution_count": null,
   "metadata": {},
   "outputs": [],
   "source": [
    "json_data['bindings'] = [binding for binding in json_data['bindings'] if binding['role'] != 'roles/bigquery.dataViewer']"
   ]
  },
  {
   "cell_type": "code",
   "execution_count": null,
   "metadata": {},
   "outputs": [],
   "source": [
    "json_data['bindings'].append(general_binding)"
   ]
  },
  {
   "cell_type": "code",
   "execution_count": null,
   "metadata": {},
   "outputs": [],
   "source": [
    "for new_binding_ in conditional_binding:\n",
    "\n",
    "    json_data['bindings'].append(new_binding_)"
   ]
  },
  {
   "cell_type": "code",
   "execution_count": null,
   "metadata": {},
   "outputs": [],
   "source": [
    "for binding in json_data['bindings']:\n",
    "    if binding['role'] == 'roles/bigquery.dataViewer':\n",
    "        print(binding, '\\n')"
   ]
  },
  {
   "cell_type": "code",
   "execution_count": null,
   "metadata": {},
   "outputs": [],
   "source": [
    "reordered = {\n",
    "    \"etag\": json_data[\"etag\"],\n",
    "    \"version\": json_data[\"version\"],\n",
    "    \"bindings\": json_data[\"bindings\"]\n",
    "}\n",
    "\n",
    "# Convert dictionary to JSON string\n",
    "json_string = json.dumps(reordered)\n",
    "print(json_string)"
   ]
  },
  {
   "cell_type": "code",
   "execution_count": null,
   "metadata": {},
   "outputs": [],
   "source": [
    "### ALTERAR POLICIES\n",
    "\n",
    "# Prepare the URL for the GET request to list all tag keys\n",
    "url = f'https://cloudresourcemanager.googleapis.com/v1/projects/{PROJECT_ID}:setIamPolicy'\n",
    "\n",
    "# Prepare the headers with the obtained access token\n",
    "headers = {\n",
    "    'Authorization': f\"Bearer {credentials__.token}\",\n",
    "    'Content-Type': 'application/json'\n",
    "}\n",
    "\n",
    "# POST request data\n",
    "data = '{ \\\"policy\\\":' + json_string + '}'\n",
    "\n",
    "# Make the API request\n",
    "response = requests.post(url, headers=headers, data=data)\n",
    "\n",
    "if response.status_code == 200:\n",
    "    print(\"Sucess!\", response.status_code, response.text)\n",
    "elif response.status_code == 403:\n",
    "    print(\"Failed:\", response.status_code, response.text)\n",
    "elif response.status_code == 404:\n",
    "    print(\"Failed:\", response.status_code, response.text)\n",
    "else:\n",
    "    print(\"Failed:\", response.status_code, response.text)"
   ]
  },
  {
   "cell_type": "code",
   "execution_count": null,
   "metadata": {},
   "outputs": [],
   "source": [
    "condition_expressions_and_members_list ##generate version control in BigQuery"
   ]
  }
 ],
 "metadata": {
  "kernelspec": {
   "display_name": "3.12.2",
   "language": "python",
   "name": "python3"
  },
  "language_info": {
   "codemirror_mode": {
    "name": "ipython",
    "version": 3
   },
   "file_extension": ".py",
   "mimetype": "text/x-python",
   "name": "python",
   "nbconvert_exporter": "python",
   "pygments_lexer": "ipython3",
   "version": "3.12.2"
  }
 },
 "nbformat": 4,
 "nbformat_minor": 2
}
